{
 "cells": [
  {
   "cell_type": "markdown",
   "metadata": {},
   "source": [
    "## Spanish High Speed Rail Tickets Pricing\n",
    "\n",
    "This is a dataset from [the Gurus](https://thegurus.tech/). The data is scraped in real time and is used for the purpose of enlightening the customers with the price that is best for the given purchase. \n",
    "\n",
    "Tickets pricing can change with the demand and time. Users can set up some alarm/remainder (email) when the prices drop below a mean price. "
   ]
  },
  {
   "cell_type": "code",
   "execution_count": 1,
   "metadata": {},
   "outputs": [],
   "source": [
    "# Defining packages\n",
    "import pandas as pd"
   ]
  },
  {
   "cell_type": "code",
   "execution_count": 2,
   "metadata": {},
   "outputs": [],
   "source": [
    "df = pd.read_csv('renfe.csv')\n",
    "del df['Unnamed: 0'] # Deleting the unnamed column"
   ]
  },
  {
   "cell_type": "code",
   "execution_count": 3,
   "metadata": {},
   "outputs": [
    {
     "data": {
      "text/html": [
       "<div>\n",
       "<style scoped>\n",
       "    .dataframe tbody tr th:only-of-type {\n",
       "        vertical-align: middle;\n",
       "    }\n",
       "\n",
       "    .dataframe tbody tr th {\n",
       "        vertical-align: top;\n",
       "    }\n",
       "\n",
       "    .dataframe thead th {\n",
       "        text-align: right;\n",
       "    }\n",
       "</style>\n",
       "<table border=\"1\" class=\"dataframe\">\n",
       "  <thead>\n",
       "    <tr style=\"text-align: right;\">\n",
       "      <th></th>\n",
       "      <th>insert_date</th>\n",
       "      <th>origin</th>\n",
       "      <th>destination</th>\n",
       "      <th>start_date</th>\n",
       "      <th>end_date</th>\n",
       "      <th>train_type</th>\n",
       "      <th>price</th>\n",
       "      <th>train_class</th>\n",
       "      <th>fare</th>\n",
       "    </tr>\n",
       "  </thead>\n",
       "  <tbody>\n",
       "    <tr>\n",
       "      <th>0</th>\n",
       "      <td>2019-04-19 05:31:43</td>\n",
       "      <td>MADRID</td>\n",
       "      <td>SEVILLA</td>\n",
       "      <td>2019-05-29 06:20:00</td>\n",
       "      <td>2019-05-29 09:16:00</td>\n",
       "      <td>AV City</td>\n",
       "      <td>38.55</td>\n",
       "      <td>Turista</td>\n",
       "      <td>Promo</td>\n",
       "    </tr>\n",
       "    <tr>\n",
       "      <th>1</th>\n",
       "      <td>2019-04-19 05:31:43</td>\n",
       "      <td>MADRID</td>\n",
       "      <td>SEVILLA</td>\n",
       "      <td>2019-05-29 07:00:00</td>\n",
       "      <td>2019-05-29 09:32:00</td>\n",
       "      <td>AVE</td>\n",
       "      <td>53.40</td>\n",
       "      <td>Turista</td>\n",
       "      <td>Promo</td>\n",
       "    </tr>\n",
       "    <tr>\n",
       "      <th>2</th>\n",
       "      <td>2019-04-19 05:31:43</td>\n",
       "      <td>MADRID</td>\n",
       "      <td>SEVILLA</td>\n",
       "      <td>2019-05-29 07:30:00</td>\n",
       "      <td>2019-05-29 09:51:00</td>\n",
       "      <td>AVE</td>\n",
       "      <td>47.30</td>\n",
       "      <td>Turista</td>\n",
       "      <td>Promo</td>\n",
       "    </tr>\n",
       "    <tr>\n",
       "      <th>3</th>\n",
       "      <td>2019-04-19 05:31:43</td>\n",
       "      <td>MADRID</td>\n",
       "      <td>SEVILLA</td>\n",
       "      <td>2019-05-29 08:00:00</td>\n",
       "      <td>2019-05-29 10:32:00</td>\n",
       "      <td>AVE</td>\n",
       "      <td>69.40</td>\n",
       "      <td>Preferente</td>\n",
       "      <td>Promo</td>\n",
       "    </tr>\n",
       "    <tr>\n",
       "      <th>4</th>\n",
       "      <td>2019-04-19 05:31:43</td>\n",
       "      <td>MADRID</td>\n",
       "      <td>SEVILLA</td>\n",
       "      <td>2019-05-29 08:30:00</td>\n",
       "      <td>2019-05-29 11:14:00</td>\n",
       "      <td>ALVIA</td>\n",
       "      <td>NaN</td>\n",
       "      <td>Turista</td>\n",
       "      <td>Promo</td>\n",
       "    </tr>\n",
       "  </tbody>\n",
       "</table>\n",
       "</div>"
      ],
      "text/plain": [
       "           insert_date  origin destination           start_date  \\\n",
       "0  2019-04-19 05:31:43  MADRID     SEVILLA  2019-05-29 06:20:00   \n",
       "1  2019-04-19 05:31:43  MADRID     SEVILLA  2019-05-29 07:00:00   \n",
       "2  2019-04-19 05:31:43  MADRID     SEVILLA  2019-05-29 07:30:00   \n",
       "3  2019-04-19 05:31:43  MADRID     SEVILLA  2019-05-29 08:00:00   \n",
       "4  2019-04-19 05:31:43  MADRID     SEVILLA  2019-05-29 08:30:00   \n",
       "\n",
       "              end_date train_type  price train_class   fare  \n",
       "0  2019-05-29 09:16:00    AV City  38.55     Turista  Promo  \n",
       "1  2019-05-29 09:32:00        AVE  53.40     Turista  Promo  \n",
       "2  2019-05-29 09:51:00        AVE  47.30     Turista  Promo  \n",
       "3  2019-05-29 10:32:00        AVE  69.40  Preferente  Promo  \n",
       "4  2019-05-29 11:14:00      ALVIA    NaN     Turista  Promo  "
      ]
     },
     "execution_count": 3,
     "metadata": {},
     "output_type": "execute_result"
    }
   ],
   "source": [
    "# Let's see the data in hand\n",
    "df.head()"
   ]
  },
  {
   "cell_type": "markdown",
   "metadata": {},
   "source": [
    "As it can be seen there are 9 columns with date when the data was inserted (`insert_date`), origin, destination, start and end date of journey, type of the train, price, train class, fare type. "
   ]
  },
  {
   "cell_type": "code",
   "execution_count": 4,
   "metadata": {},
   "outputs": [
    {
     "name": "stdout",
     "output_type": "stream",
     "text": [
      "<class 'pandas.core.frame.DataFrame'>\n",
      "RangeIndex: 2579771 entries, 0 to 2579770\n",
      "Data columns (total 9 columns):\n",
      "insert_date    object\n",
      "origin         object\n",
      "destination    object\n",
      "start_date     object\n",
      "end_date       object\n",
      "train_type     object\n",
      "price          float64\n",
      "train_class    object\n",
      "fare           object\n",
      "dtypes: float64(1), object(8)\n",
      "memory usage: 177.1+ MB\n"
     ]
    }
   ],
   "source": [
    "df.info()"
   ]
  },
  {
   "cell_type": "markdown",
   "metadata": {},
   "source": [
    "Since the columns are of datetime type. I can convert them using a function and change the type. "
   ]
  },
  {
   "cell_type": "code",
   "execution_count": 5,
   "metadata": {},
   "outputs": [],
   "source": [
    "def convert_date(df):\n",
    "    return pd.to_datetime(df)"
   ]
  },
  {
   "cell_type": "code",
   "execution_count": 6,
   "metadata": {},
   "outputs": [],
   "source": [
    "df.insert_date = convert_date(df.insert_date)\n",
    "df.start_date = convert_date(df.start_date)\n",
    "df.end_date = convert_date(df.end_date)"
   ]
  },
  {
   "cell_type": "code",
   "execution_count": 7,
   "metadata": {},
   "outputs": [
    {
     "name": "stdout",
     "output_type": "stream",
     "text": [
      "<class 'pandas.core.frame.DataFrame'>\n",
      "RangeIndex: 2579771 entries, 0 to 2579770\n",
      "Data columns (total 9 columns):\n",
      "insert_date    datetime64[ns]\n",
      "origin         object\n",
      "destination    object\n",
      "start_date     datetime64[ns]\n",
      "end_date       datetime64[ns]\n",
      "train_type     object\n",
      "price          float64\n",
      "train_class    object\n",
      "fare           object\n",
      "dtypes: datetime64[ns](3), float64(1), object(5)\n",
      "memory usage: 177.1+ MB\n"
     ]
    }
   ],
   "source": [
    "# Coversion to date - DONE!\n",
    "df.info()"
   ]
  },
  {
   "cell_type": "markdown",
   "metadata": {},
   "source": [
    "Converted the objects to datetime objects. This will help in better analysis"
   ]
  },
  {
   "cell_type": "code",
   "execution_count": 8,
   "metadata": {},
   "outputs": [
    {
     "name": "stdout",
     "output_type": "stream",
     "text": [
      "Unique Values of column origin: ['MADRID' 'SEVILLA' 'PONFERRADA' 'BARCELONA' 'VALENCIA']\n",
      "Unique Values of column destination: ['SEVILLA' 'MADRID' 'VALENCIA' 'BARCELONA' 'PONFERRADA']\n",
      "Unique Values of column train_type: ['AV City' 'AVE' 'ALVIA' 'INTERCITY' 'MD-LD' 'MD' 'LD-MD' 'LD' 'MD-AVE'\n",
      " 'TRENHOTEL' 'AVE-LD' 'REGIONAL' 'AVE-MD' 'R. EXPRES' 'AVE-TGV' 'LD-AVE']\n",
      "Unique Values of column train_class: ['Turista' 'Preferente' 'Turista con enlace' 'Turista Plus' nan\n",
      " 'Cama G. Clase' 'Cama Turista']\n",
      "Unique Values of column fare: ['Promo' 'Flexible' 'Promo +' nan 'Individual-Flexible' 'Adulto ida'\n",
      " 'Mesa' 'Grupos Ida']\n"
     ]
    }
   ],
   "source": [
    "col_names = ['origin', 'destination', 'train_type', 'train_class', 'fare']\n",
    "index_list = [1, 2, 5, 7, 8]\n",
    "for col, item in zip(col_names, index_list):\n",
    "    print(f'Unique Values of column {col}: {df.iloc[:,item].unique()}')"
   ]
  },
  {
   "cell_type": "markdown",
   "metadata": {},
   "source": [
    "It can be seen that there are a set of unique values in origin and destination are the same. There are to and fro trains from any point A in origin to another point B in destination. What will be the unique combination available when we combine the origina and destination? Let's see. "
   ]
  },
  {
   "cell_type": "code",
   "execution_count": 9,
   "metadata": {},
   "outputs": [
    {
     "data": {
      "text/html": [
       "<div>\n",
       "<style scoped>\n",
       "    .dataframe tbody tr th:only-of-type {\n",
       "        vertical-align: middle;\n",
       "    }\n",
       "\n",
       "    .dataframe tbody tr th {\n",
       "        vertical-align: top;\n",
       "    }\n",
       "\n",
       "    .dataframe thead th {\n",
       "        text-align: right;\n",
       "    }\n",
       "</style>\n",
       "<table border=\"1\" class=\"dataframe\">\n",
       "  <thead>\n",
       "    <tr style=\"text-align: right;\">\n",
       "      <th></th>\n",
       "      <th>insert_date</th>\n",
       "      <th>origin</th>\n",
       "      <th>destination</th>\n",
       "      <th>start_date</th>\n",
       "      <th>end_date</th>\n",
       "      <th>train_type</th>\n",
       "      <th>price</th>\n",
       "      <th>train_class</th>\n",
       "      <th>fare</th>\n",
       "      <th>origin_dest</th>\n",
       "    </tr>\n",
       "  </thead>\n",
       "  <tbody>\n",
       "    <tr>\n",
       "      <th>0</th>\n",
       "      <td>2019-04-19 05:31:43</td>\n",
       "      <td>MADRID</td>\n",
       "      <td>SEVILLA</td>\n",
       "      <td>2019-05-29 06:20:00</td>\n",
       "      <td>2019-05-29 09:16:00</td>\n",
       "      <td>AV City</td>\n",
       "      <td>38.55</td>\n",
       "      <td>Turista</td>\n",
       "      <td>Promo</td>\n",
       "      <td>MADRID-SEVILLA</td>\n",
       "    </tr>\n",
       "    <tr>\n",
       "      <th>1</th>\n",
       "      <td>2019-04-19 05:31:43</td>\n",
       "      <td>MADRID</td>\n",
       "      <td>SEVILLA</td>\n",
       "      <td>2019-05-29 07:00:00</td>\n",
       "      <td>2019-05-29 09:32:00</td>\n",
       "      <td>AVE</td>\n",
       "      <td>53.40</td>\n",
       "      <td>Turista</td>\n",
       "      <td>Promo</td>\n",
       "      <td>MADRID-SEVILLA</td>\n",
       "    </tr>\n",
       "  </tbody>\n",
       "</table>\n",
       "</div>"
      ],
      "text/plain": [
       "          insert_date  origin destination          start_date  \\\n",
       "0 2019-04-19 05:31:43  MADRID     SEVILLA 2019-05-29 06:20:00   \n",
       "1 2019-04-19 05:31:43  MADRID     SEVILLA 2019-05-29 07:00:00   \n",
       "\n",
       "             end_date train_type  price train_class   fare     origin_dest  \n",
       "0 2019-05-29 09:16:00    AV City  38.55     Turista  Promo  MADRID-SEVILLA  \n",
       "1 2019-05-29 09:32:00        AVE  53.40     Turista  Promo  MADRID-SEVILLA  "
      ]
     },
     "execution_count": 9,
     "metadata": {},
     "output_type": "execute_result"
    }
   ],
   "source": [
    "df['origin_dest'] = df.origin + '-' + df.destination\n",
    "df.head(2)"
   ]
  },
  {
   "cell_type": "markdown",
   "metadata": {},
   "source": [
    "Perfect, now to test the unique possibilities of the number of trips made between an origin and destination."
   ]
  },
  {
   "cell_type": "code",
   "execution_count": 10,
   "metadata": {},
   "outputs": [
    {
     "name": "stdout",
     "output_type": "stream",
     "text": [
      "Unique Value of origin-destination: ['MADRID-SEVILLA' 'SEVILLA-MADRID' 'MADRID-VALENCIA' 'PONFERRADA-MADRID'\n",
      " 'BARCELONA-MADRID' 'MADRID-BARCELONA' 'MADRID-PONFERRADA'\n",
      " 'VALENCIA-MADRID']\n"
     ]
    }
   ],
   "source": [
    "print(f'Unique Value of origin-destination: {df.origin_dest.unique()}')"
   ]
  },
  {
   "cell_type": "markdown",
   "metadata": {},
   "source": [
    "Looks like MADRID is a key station and people travel to and from MADRID to all other places. "
   ]
  },
  {
   "cell_type": "markdown",
   "metadata": {},
   "source": [
    "### Handling Missing values (Numeric columns) - 1\n",
    "Let's check for the missing values in the price column. "
   ]
  },
  {
   "cell_type": "code",
   "execution_count": 11,
   "metadata": {},
   "outputs": [
    {
     "name": "stdout",
     "output_type": "stream",
     "text": [
      "Number of missing values in price: 310681\n",
      "Fraction of missing values: 12.04296815492538 %\n"
     ]
    }
   ],
   "source": [
    "print(f'Number of missing values in price: {sum(df.price.isnull())}')\n",
    "print(f'Fraction of missing values: {100*sum(df.price.isnull())/ df.iloc[:,0].count()} %')"
   ]
  },
  {
   "cell_type": "markdown",
   "metadata": {},
   "source": [
    "We cannot touch this feature. It is the target column and should not be disturbed. Better to remove the Non numeric columns in the dataframe. That's what we do next."
   ]
  },
  {
   "cell_type": "markdown",
   "metadata": {},
   "source": [
    "### Handling Missing values (Non-integer column)\n",
    "There are missing values in the column `train_class`. This is seen as a NaN value. Let's dig more to see how many are missing"
   ]
  },
  {
   "cell_type": "code",
   "execution_count": 12,
   "metadata": {},
   "outputs": [
    {
     "name": "stdout",
     "output_type": "stream",
     "text": [
      "Number of missing values in train_class: 9664\n",
      "Fraction of missing values: 0.37460689340255393 %\n",
      "Number of missing values in fare: 9664\n",
      "Fraction of missing values: 0.37460689340255393 %\n"
     ]
    }
   ],
   "source": [
    "# Train class type\n",
    "print(f'Number of missing values in train_class: {sum(df.train_class.isnull())}')\n",
    "print(f'Fraction of missing values: {100*sum(df.train_class.isnull())/ df.iloc[:,0].count()} %')\n",
    "\n",
    "# Fare type \n",
    "print(f'Number of missing values in fare: {sum(df.fare.isnull())}')\n",
    "print(f'Fraction of missing values: {100*sum(df.fare.isnull())/ df.iloc[:,0].count()} %')"
   ]
  },
  {
   "cell_type": "markdown",
   "metadata": {},
   "source": [
    "Since only $0.3\\%$ is missing. It is better to remove the observations that tend to provide trouble in analysis. Fingers crossed on how many rows with missing data in pricing columns is missed. "
   ]
  },
  {
   "cell_type": "code",
   "execution_count": 13,
   "metadata": {},
   "outputs": [
    {
     "name": "stdout",
     "output_type": "stream",
     "text": [
      "Unique Values of column train_class: ['Turista' 'Preferente' 'Turista con enlace' 'Turista Plus'\n",
      " 'Cama G. Clase' 'Cama Turista']\n",
      "Number of missing values in train_class: 0\n",
      "Unique Values of column fare: ['Promo' 'Flexible' 'Promo +' 'Individual-Flexible' 'Adulto ida' 'Mesa'\n",
      " 'Grupos Ida']\n",
      "Number of missing values in fare: 0\n"
     ]
    }
   ],
   "source": [
    "# Removing the rows that contain NAN's in train_class\n",
    "df.dropna(how='any',axis='rows',subset=['train_class', 'fare'], inplace = True)\n",
    "# Train class type\n",
    "print(f'Unique Values of column train_class: {df.train_class.unique()}')\n",
    "print(f'Number of missing values in train_class: {sum(df.train_class.isnull())}')\n",
    "\n",
    "# Fare type\n",
    "print(f'Unique Values of column fare: {df.fare.unique()}')\n",
    "print(f'Number of missing values in fare: {sum(df.fare.isnull())}')"
   ]
  },
  {
   "cell_type": "markdown",
   "metadata": {},
   "source": [
    "### Handling Missing values (Numeric columns) - 2\n",
    "Let's check for the missing values in the price column after the removal of the non-numeric NAN's."
   ]
  },
  {
   "cell_type": "code",
   "execution_count": 14,
   "metadata": {},
   "outputs": [
    {
     "name": "stdout",
     "output_type": "stream",
     "text": [
      "Number of missing values in price: 301017\n",
      "Fraction of missing values: 11.712236105345031 %\n"
     ]
    }
   ],
   "source": [
    "print(f'Number of missing values in price: {sum(df.price.isnull())}')\n",
    "print(f'Fraction of missing values: {100*sum(df.price.isnull())/ df.iloc[:,0].count()} %')"
   ]
  },
  {
   "cell_type": "markdown",
   "metadata": {},
   "source": [
    "We cannot fill the target variable column with mean/ median. It is not logical to do so. Since the number of missing values is well above $10\\%$, it is better to not impute them and use tree-based models for prediction. This value was $12\\%$ before removing the rows in the `fare` and `train_class` columns. Still, it's better to use this instead of completely removing the rows that has no price values."
   ]
  },
  {
   "cell_type": "markdown",
   "metadata": {},
   "source": [
    "### Feature Engineering\n",
    "\n",
    "Let's define a new column which gives the time travelled by a passenger from one place to another. "
   ]
  },
  {
   "cell_type": "code",
   "execution_count": 15,
   "metadata": {},
   "outputs": [
    {
     "data": {
      "text/html": [
       "<div>\n",
       "<style scoped>\n",
       "    .dataframe tbody tr th:only-of-type {\n",
       "        vertical-align: middle;\n",
       "    }\n",
       "\n",
       "    .dataframe tbody tr th {\n",
       "        vertical-align: top;\n",
       "    }\n",
       "\n",
       "    .dataframe thead th {\n",
       "        text-align: right;\n",
       "    }\n",
       "</style>\n",
       "<table border=\"1\" class=\"dataframe\">\n",
       "  <thead>\n",
       "    <tr style=\"text-align: right;\">\n",
       "      <th></th>\n",
       "      <th>insert_date</th>\n",
       "      <th>origin</th>\n",
       "      <th>destination</th>\n",
       "      <th>start_date</th>\n",
       "      <th>end_date</th>\n",
       "      <th>train_type</th>\n",
       "      <th>price</th>\n",
       "      <th>train_class</th>\n",
       "      <th>fare</th>\n",
       "      <th>origin_dest</th>\n",
       "      <th>travel_time</th>\n",
       "    </tr>\n",
       "  </thead>\n",
       "  <tbody>\n",
       "    <tr>\n",
       "      <th>0</th>\n",
       "      <td>2019-04-19 05:31:43</td>\n",
       "      <td>MADRID</td>\n",
       "      <td>SEVILLA</td>\n",
       "      <td>2019-05-29 06:20:00</td>\n",
       "      <td>2019-05-29 09:16:00</td>\n",
       "      <td>AV City</td>\n",
       "      <td>38.55</td>\n",
       "      <td>Turista</td>\n",
       "      <td>Promo</td>\n",
       "      <td>MADRID-SEVILLA</td>\n",
       "      <td>02:56:00</td>\n",
       "    </tr>\n",
       "    <tr>\n",
       "      <th>1</th>\n",
       "      <td>2019-04-19 05:31:43</td>\n",
       "      <td>MADRID</td>\n",
       "      <td>SEVILLA</td>\n",
       "      <td>2019-05-29 07:00:00</td>\n",
       "      <td>2019-05-29 09:32:00</td>\n",
       "      <td>AVE</td>\n",
       "      <td>53.40</td>\n",
       "      <td>Turista</td>\n",
       "      <td>Promo</td>\n",
       "      <td>MADRID-SEVILLA</td>\n",
       "      <td>02:32:00</td>\n",
       "    </tr>\n",
       "  </tbody>\n",
       "</table>\n",
       "</div>"
      ],
      "text/plain": [
       "          insert_date  origin destination          start_date  \\\n",
       "0 2019-04-19 05:31:43  MADRID     SEVILLA 2019-05-29 06:20:00   \n",
       "1 2019-04-19 05:31:43  MADRID     SEVILLA 2019-05-29 07:00:00   \n",
       "\n",
       "             end_date train_type  price train_class   fare     origin_dest  \\\n",
       "0 2019-05-29 09:16:00    AV City  38.55     Turista  Promo  MADRID-SEVILLA   \n",
       "1 2019-05-29 09:32:00        AVE  53.40     Turista  Promo  MADRID-SEVILLA   \n",
       "\n",
       "  travel_time  \n",
       "0    02:56:00  \n",
       "1    02:32:00  "
      ]
     },
     "execution_count": 15,
     "metadata": {},
     "output_type": "execute_result"
    }
   ],
   "source": [
    "df['travel_time'] = df.end_date - df.start_date\n",
    "df.head(2)"
   ]
  },
  {
   "cell_type": "code",
   "execution_count": 16,
   "metadata": {},
   "outputs": [
    {
     "data": {
      "text/html": [
       "<div>\n",
       "<style scoped>\n",
       "    .dataframe tbody tr th:only-of-type {\n",
       "        vertical-align: middle;\n",
       "    }\n",
       "\n",
       "    .dataframe tbody tr th {\n",
       "        vertical-align: top;\n",
       "    }\n",
       "\n",
       "    .dataframe thead th {\n",
       "        text-align: right;\n",
       "    }\n",
       "</style>\n",
       "<table border=\"1\" class=\"dataframe\">\n",
       "  <thead>\n",
       "    <tr style=\"text-align: right;\">\n",
       "      <th></th>\n",
       "      <th>insert_date</th>\n",
       "      <th>origin</th>\n",
       "      <th>destination</th>\n",
       "      <th>start_date</th>\n",
       "      <th>end_date</th>\n",
       "      <th>train_type</th>\n",
       "      <th>price</th>\n",
       "      <th>train_class</th>\n",
       "      <th>fare</th>\n",
       "      <th>origin_dest</th>\n",
       "      <th>travel_time</th>\n",
       "    </tr>\n",
       "  </thead>\n",
       "  <tbody>\n",
       "    <tr>\n",
       "      <th>0</th>\n",
       "      <td>2019-04-19 05:31:43</td>\n",
       "      <td>MADRID</td>\n",
       "      <td>SEVILLA</td>\n",
       "      <td>2019-05-29 06:20:00</td>\n",
       "      <td>2019-05-29 09:16:00</td>\n",
       "      <td>AV City</td>\n",
       "      <td>38.55</td>\n",
       "      <td>Turista</td>\n",
       "      <td>Promo</td>\n",
       "      <td>MADRID-SEVILLA</td>\n",
       "      <td>10560</td>\n",
       "    </tr>\n",
       "    <tr>\n",
       "      <th>1</th>\n",
       "      <td>2019-04-19 05:31:43</td>\n",
       "      <td>MADRID</td>\n",
       "      <td>SEVILLA</td>\n",
       "      <td>2019-05-29 07:00:00</td>\n",
       "      <td>2019-05-29 09:32:00</td>\n",
       "      <td>AVE</td>\n",
       "      <td>53.40</td>\n",
       "      <td>Turista</td>\n",
       "      <td>Promo</td>\n",
       "      <td>MADRID-SEVILLA</td>\n",
       "      <td>9120</td>\n",
       "    </tr>\n",
       "  </tbody>\n",
       "</table>\n",
       "</div>"
      ],
      "text/plain": [
       "          insert_date  origin destination          start_date  \\\n",
       "0 2019-04-19 05:31:43  MADRID     SEVILLA 2019-05-29 06:20:00   \n",
       "1 2019-04-19 05:31:43  MADRID     SEVILLA 2019-05-29 07:00:00   \n",
       "\n",
       "             end_date train_type  price train_class   fare     origin_dest  \\\n",
       "0 2019-05-29 09:16:00    AV City  38.55     Turista  Promo  MADRID-SEVILLA   \n",
       "1 2019-05-29 09:32:00        AVE  53.40     Turista  Promo  MADRID-SEVILLA   \n",
       "\n",
       "   travel_time  \n",
       "0        10560  \n",
       "1         9120  "
      ]
     },
     "execution_count": 16,
     "metadata": {},
     "output_type": "execute_result"
    }
   ],
   "source": [
    "def convert_to_seconds(time):\n",
    "    return int(time.total_seconds())\n",
    "df.travel_time = df.travel_time.apply(convert_to_seconds)\n",
    "df.head(2)"
   ]
  },
  {
   "cell_type": "markdown",
   "metadata": {},
   "source": [
    "Since the columns `start_date` and `end_date` are converted to `travel_time`. We can remove them along with the `insert_date` column for analysis purposes."
   ]
  },
  {
   "cell_type": "code",
   "execution_count": 17,
   "metadata": {},
   "outputs": [
    {
     "data": {
      "text/html": [
       "<div>\n",
       "<style scoped>\n",
       "    .dataframe tbody tr th:only-of-type {\n",
       "        vertical-align: middle;\n",
       "    }\n",
       "\n",
       "    .dataframe tbody tr th {\n",
       "        vertical-align: top;\n",
       "    }\n",
       "\n",
       "    .dataframe thead th {\n",
       "        text-align: right;\n",
       "    }\n",
       "</style>\n",
       "<table border=\"1\" class=\"dataframe\">\n",
       "  <thead>\n",
       "    <tr style=\"text-align: right;\">\n",
       "      <th></th>\n",
       "      <th>origin_dest</th>\n",
       "      <th>train_type</th>\n",
       "      <th>train_class</th>\n",
       "      <th>fare</th>\n",
       "      <th>travel_time</th>\n",
       "      <th>price</th>\n",
       "    </tr>\n",
       "  </thead>\n",
       "  <tbody>\n",
       "    <tr>\n",
       "      <th>0</th>\n",
       "      <td>MADRID-SEVILLA</td>\n",
       "      <td>AV City</td>\n",
       "      <td>Turista</td>\n",
       "      <td>Promo</td>\n",
       "      <td>10560</td>\n",
       "      <td>38.55</td>\n",
       "    </tr>\n",
       "    <tr>\n",
       "      <th>1</th>\n",
       "      <td>MADRID-SEVILLA</td>\n",
       "      <td>AVE</td>\n",
       "      <td>Turista</td>\n",
       "      <td>Promo</td>\n",
       "      <td>9120</td>\n",
       "      <td>53.40</td>\n",
       "    </tr>\n",
       "  </tbody>\n",
       "</table>\n",
       "</div>"
      ],
      "text/plain": [
       "      origin_dest train_type train_class   fare  travel_time  price\n",
       "0  MADRID-SEVILLA    AV City     Turista  Promo        10560  38.55\n",
       "1  MADRID-SEVILLA        AVE     Turista  Promo         9120  53.40"
      ]
     },
     "execution_count": 17,
     "metadata": {},
     "output_type": "execute_result"
    }
   ],
   "source": [
    "df = df[['origin_dest', 'train_type', 'train_class', 'fare', 'travel_time', 'price']]\n",
    "df.head(2)"
   ]
  },
  {
   "cell_type": "code",
   "execution_count": 18,
   "metadata": {},
   "outputs": [
    {
     "name": "stdout",
     "output_type": "stream",
     "text": [
      "<class 'pandas.core.frame.DataFrame'>\n",
      "Int64Index: 2570107 entries, 0 to 2579770\n",
      "Data columns (total 6 columns):\n",
      "origin_dest    object\n",
      "train_type     object\n",
      "train_class    object\n",
      "fare           object\n",
      "travel_time    int64\n",
      "price          float64\n",
      "dtypes: float64(1), int64(1), object(4)\n",
      "memory usage: 137.3+ MB\n"
     ]
    }
   ],
   "source": [
    "df.info()"
   ]
  },
  {
   "cell_type": "code",
   "execution_count": 19,
   "metadata": {},
   "outputs": [
    {
     "name": "stdout",
     "output_type": "stream",
     "text": [
      "----------------------------------------------------------\n",
      "Unique Values of column origin_dest: ['MADRID-SEVILLA' 'SEVILLA-MADRID' 'MADRID-VALENCIA' 'PONFERRADA-MADRID'\n",
      " 'BARCELONA-MADRID' 'MADRID-BARCELONA' 'MADRID-PONFERRADA'\n",
      " 'VALENCIA-MADRID']\n",
      "Count of Missing Values of column origin_dest: 0\n",
      "----------------------------------------------------------\n",
      "Unique Values of column train_type: ['AV City' 'AVE' 'ALVIA' 'INTERCITY' 'MD-LD' 'MD' 'LD-MD' 'LD' 'MD-AVE'\n",
      " 'TRENHOTEL' 'AVE-LD' 'REGIONAL' 'AVE-MD' 'R. EXPRES' 'AVE-TGV' 'LD-AVE']\n",
      "Count of Missing Values of column train_type: 0\n",
      "----------------------------------------------------------\n",
      "Unique Values of column train_class: ['Turista' 'Preferente' 'Turista con enlace' 'Turista Plus'\n",
      " 'Cama G. Clase' 'Cama Turista']\n",
      "Count of Missing Values of column train_class: 0\n",
      "----------------------------------------------------------\n",
      "Unique Values of column fare: ['Promo' 'Flexible' 'Promo +' 'Individual-Flexible' 'Adulto ida' 'Mesa'\n",
      " 'Grupos Ida']\n",
      "Count of Missing Values of column fare: 0\n",
      "----------------------------------------------------------\n",
      "Unique Values of column travel_time: [10560  9120  8460  9840  9480  9720  9360  9600  9300  9000  9180  9900\n",
      " 27660 10500 10080  8700  9780  9960 10320  9540 10920 44700 24660 41460\n",
      "  7500 16320 15360 20220 16920 20880 21300 17940 14880 24900 20760 14640\n",
      " 18000 18180 23700  6780  6240  6000  8100 22920 25260  6120 22620 15000\n",
      "  6540 22200 24420  6480 24180  7800 24120 11400 32640 10800 10020 11340\n",
      " 11040 10740 10200 10260 11100 33720 13980 15120 14580 23520 19320  6420\n",
      " 25140 25680  5880 26820 23280  7980  6360  8820  6720 27720  6060 26040\n",
      "  6180 27480 27600 19620 19920 13800 28920 29100 26700 25380 24600 23400\n",
      " 19680 24960 25200 21660 21780 19200 24480 25740 40500 22980 22500 19800\n",
      " 26400 16740 15480 15240 18420 25620 24780 23160 40920 40680 26520 12300\n",
      " 29040]\n",
      "Count of Missing Values of column travel_time: 0\n"
     ]
    }
   ],
   "source": [
    "col_names = list(df.columns[:-1])\n",
    "index_list = range(5)\n",
    "for col, item in zip(col_names, index_list):\n",
    "    print('----------------------------------------------------------')\n",
    "    print(f'Unique Values of column {col}: {df.iloc[:,item].unique()}')\n",
    "    print(f'Count of Missing Values of column {col}: {sum(df.iloc[:,item].isnull())}')"
   ]
  },
  {
   "cell_type": "markdown",
   "metadata": {},
   "source": [
    "### One hot encoding the data\n",
    "Let's one hot encode the object columns and the int64 `travel_time` column."
   ]
  },
  {
   "cell_type": "code",
   "execution_count": 20,
   "metadata": {},
   "outputs": [
    {
     "data": {
      "text/html": [
       "<div>\n",
       "<style scoped>\n",
       "    .dataframe tbody tr th:only-of-type {\n",
       "        vertical-align: middle;\n",
       "    }\n",
       "\n",
       "    .dataframe tbody tr th {\n",
       "        vertical-align: top;\n",
       "    }\n",
       "\n",
       "    .dataframe thead th {\n",
       "        text-align: right;\n",
       "    }\n",
       "</style>\n",
       "<table border=\"1\" class=\"dataframe\">\n",
       "  <thead>\n",
       "    <tr style=\"text-align: right;\">\n",
       "      <th></th>\n",
       "      <th>travel_time</th>\n",
       "      <th>price</th>\n",
       "      <th>origin_dest_BARCELONA-MADRID</th>\n",
       "      <th>origin_dest_MADRID-BARCELONA</th>\n",
       "      <th>origin_dest_MADRID-PONFERRADA</th>\n",
       "      <th>origin_dest_MADRID-SEVILLA</th>\n",
       "      <th>origin_dest_MADRID-VALENCIA</th>\n",
       "      <th>origin_dest_PONFERRADA-MADRID</th>\n",
       "      <th>origin_dest_SEVILLA-MADRID</th>\n",
       "      <th>origin_dest_VALENCIA-MADRID</th>\n",
       "      <th>...</th>\n",
       "      <th>train_class_Turista</th>\n",
       "      <th>train_class_Turista Plus</th>\n",
       "      <th>train_class_Turista con enlace</th>\n",
       "      <th>fare_Adulto ida</th>\n",
       "      <th>fare_Flexible</th>\n",
       "      <th>fare_Grupos Ida</th>\n",
       "      <th>fare_Individual-Flexible</th>\n",
       "      <th>fare_Mesa</th>\n",
       "      <th>fare_Promo</th>\n",
       "      <th>fare_Promo +</th>\n",
       "    </tr>\n",
       "  </thead>\n",
       "  <tbody>\n",
       "    <tr>\n",
       "      <th>0</th>\n",
       "      <td>10560</td>\n",
       "      <td>38.55</td>\n",
       "      <td>0</td>\n",
       "      <td>0</td>\n",
       "      <td>0</td>\n",
       "      <td>1</td>\n",
       "      <td>0</td>\n",
       "      <td>0</td>\n",
       "      <td>0</td>\n",
       "      <td>0</td>\n",
       "      <td>...</td>\n",
       "      <td>1</td>\n",
       "      <td>0</td>\n",
       "      <td>0</td>\n",
       "      <td>0</td>\n",
       "      <td>0</td>\n",
       "      <td>0</td>\n",
       "      <td>0</td>\n",
       "      <td>0</td>\n",
       "      <td>1</td>\n",
       "      <td>0</td>\n",
       "    </tr>\n",
       "    <tr>\n",
       "      <th>1</th>\n",
       "      <td>9120</td>\n",
       "      <td>53.40</td>\n",
       "      <td>0</td>\n",
       "      <td>0</td>\n",
       "      <td>0</td>\n",
       "      <td>1</td>\n",
       "      <td>0</td>\n",
       "      <td>0</td>\n",
       "      <td>0</td>\n",
       "      <td>0</td>\n",
       "      <td>...</td>\n",
       "      <td>1</td>\n",
       "      <td>0</td>\n",
       "      <td>0</td>\n",
       "      <td>0</td>\n",
       "      <td>0</td>\n",
       "      <td>0</td>\n",
       "      <td>0</td>\n",
       "      <td>0</td>\n",
       "      <td>1</td>\n",
       "      <td>0</td>\n",
       "    </tr>\n",
       "    <tr>\n",
       "      <th>2</th>\n",
       "      <td>8460</td>\n",
       "      <td>47.30</td>\n",
       "      <td>0</td>\n",
       "      <td>0</td>\n",
       "      <td>0</td>\n",
       "      <td>1</td>\n",
       "      <td>0</td>\n",
       "      <td>0</td>\n",
       "      <td>0</td>\n",
       "      <td>0</td>\n",
       "      <td>...</td>\n",
       "      <td>1</td>\n",
       "      <td>0</td>\n",
       "      <td>0</td>\n",
       "      <td>0</td>\n",
       "      <td>0</td>\n",
       "      <td>0</td>\n",
       "      <td>0</td>\n",
       "      <td>0</td>\n",
       "      <td>1</td>\n",
       "      <td>0</td>\n",
       "    </tr>\n",
       "  </tbody>\n",
       "</table>\n",
       "<p>3 rows × 39 columns</p>\n",
       "</div>"
      ],
      "text/plain": [
       "   travel_time  price  origin_dest_BARCELONA-MADRID  \\\n",
       "0        10560  38.55                             0   \n",
       "1         9120  53.40                             0   \n",
       "2         8460  47.30                             0   \n",
       "\n",
       "   origin_dest_MADRID-BARCELONA  origin_dest_MADRID-PONFERRADA  \\\n",
       "0                             0                              0   \n",
       "1                             0                              0   \n",
       "2                             0                              0   \n",
       "\n",
       "   origin_dest_MADRID-SEVILLA  origin_dest_MADRID-VALENCIA  \\\n",
       "0                           1                            0   \n",
       "1                           1                            0   \n",
       "2                           1                            0   \n",
       "\n",
       "   origin_dest_PONFERRADA-MADRID  origin_dest_SEVILLA-MADRID  \\\n",
       "0                              0                           0   \n",
       "1                              0                           0   \n",
       "2                              0                           0   \n",
       "\n",
       "   origin_dest_VALENCIA-MADRID  ...  train_class_Turista  \\\n",
       "0                            0  ...                    1   \n",
       "1                            0  ...                    1   \n",
       "2                            0  ...                    1   \n",
       "\n",
       "   train_class_Turista Plus  train_class_Turista con enlace  fare_Adulto ida  \\\n",
       "0                         0                               0                0   \n",
       "1                         0                               0                0   \n",
       "2                         0                               0                0   \n",
       "\n",
       "   fare_Flexible  fare_Grupos Ida  fare_Individual-Flexible  fare_Mesa  \\\n",
       "0              0                0                         0          0   \n",
       "1              0                0                         0          0   \n",
       "2              0                0                         0          0   \n",
       "\n",
       "   fare_Promo  fare_Promo +  \n",
       "0           1             0  \n",
       "1           1             0  \n",
       "2           1             0  \n",
       "\n",
       "[3 rows x 39 columns]"
      ]
     },
     "execution_count": 20,
     "metadata": {},
     "output_type": "execute_result"
    }
   ],
   "source": [
    "df = pd.get_dummies(df, columns = list(df.columns[:-2]))\n",
    "df.head(3)"
   ]
  },
  {
   "cell_type": "code",
   "execution_count": 21,
   "metadata": {},
   "outputs": [
    {
     "data": {
      "text/html": [
       "<div>\n",
       "<style scoped>\n",
       "    .dataframe tbody tr th:only-of-type {\n",
       "        vertical-align: middle;\n",
       "    }\n",
       "\n",
       "    .dataframe tbody tr th {\n",
       "        vertical-align: top;\n",
       "    }\n",
       "\n",
       "    .dataframe thead th {\n",
       "        text-align: right;\n",
       "    }\n",
       "</style>\n",
       "<table border=\"1\" class=\"dataframe\">\n",
       "  <thead>\n",
       "    <tr style=\"text-align: right;\">\n",
       "      <th></th>\n",
       "      <th>origin_dest_BARCELONA-MADRID</th>\n",
       "      <th>origin_dest_MADRID-BARCELONA</th>\n",
       "      <th>origin_dest_MADRID-PONFERRADA</th>\n",
       "      <th>origin_dest_MADRID-SEVILLA</th>\n",
       "      <th>origin_dest_MADRID-VALENCIA</th>\n",
       "      <th>origin_dest_PONFERRADA-MADRID</th>\n",
       "      <th>origin_dest_SEVILLA-MADRID</th>\n",
       "      <th>origin_dest_VALENCIA-MADRID</th>\n",
       "      <th>train_type_ALVIA</th>\n",
       "      <th>train_type_AV City</th>\n",
       "      <th>...</th>\n",
       "      <th>train_class_Turista con enlace</th>\n",
       "      <th>fare_Adulto ida</th>\n",
       "      <th>fare_Flexible</th>\n",
       "      <th>fare_Grupos Ida</th>\n",
       "      <th>fare_Individual-Flexible</th>\n",
       "      <th>fare_Mesa</th>\n",
       "      <th>fare_Promo</th>\n",
       "      <th>fare_Promo +</th>\n",
       "      <th>travel_time</th>\n",
       "      <th>price</th>\n",
       "    </tr>\n",
       "  </thead>\n",
       "  <tbody>\n",
       "    <tr>\n",
       "      <th>0</th>\n",
       "      <td>0</td>\n",
       "      <td>0</td>\n",
       "      <td>0</td>\n",
       "      <td>1</td>\n",
       "      <td>0</td>\n",
       "      <td>0</td>\n",
       "      <td>0</td>\n",
       "      <td>0</td>\n",
       "      <td>0</td>\n",
       "      <td>1</td>\n",
       "      <td>...</td>\n",
       "      <td>0</td>\n",
       "      <td>0</td>\n",
       "      <td>0</td>\n",
       "      <td>0</td>\n",
       "      <td>0</td>\n",
       "      <td>0</td>\n",
       "      <td>1</td>\n",
       "      <td>0</td>\n",
       "      <td>10560</td>\n",
       "      <td>38.55</td>\n",
       "    </tr>\n",
       "    <tr>\n",
       "      <th>1</th>\n",
       "      <td>0</td>\n",
       "      <td>0</td>\n",
       "      <td>0</td>\n",
       "      <td>1</td>\n",
       "      <td>0</td>\n",
       "      <td>0</td>\n",
       "      <td>0</td>\n",
       "      <td>0</td>\n",
       "      <td>0</td>\n",
       "      <td>0</td>\n",
       "      <td>...</td>\n",
       "      <td>0</td>\n",
       "      <td>0</td>\n",
       "      <td>0</td>\n",
       "      <td>0</td>\n",
       "      <td>0</td>\n",
       "      <td>0</td>\n",
       "      <td>1</td>\n",
       "      <td>0</td>\n",
       "      <td>9120</td>\n",
       "      <td>53.40</td>\n",
       "    </tr>\n",
       "    <tr>\n",
       "      <th>2</th>\n",
       "      <td>0</td>\n",
       "      <td>0</td>\n",
       "      <td>0</td>\n",
       "      <td>1</td>\n",
       "      <td>0</td>\n",
       "      <td>0</td>\n",
       "      <td>0</td>\n",
       "      <td>0</td>\n",
       "      <td>0</td>\n",
       "      <td>0</td>\n",
       "      <td>...</td>\n",
       "      <td>0</td>\n",
       "      <td>0</td>\n",
       "      <td>0</td>\n",
       "      <td>0</td>\n",
       "      <td>0</td>\n",
       "      <td>0</td>\n",
       "      <td>1</td>\n",
       "      <td>0</td>\n",
       "      <td>8460</td>\n",
       "      <td>47.30</td>\n",
       "    </tr>\n",
       "  </tbody>\n",
       "</table>\n",
       "<p>3 rows × 39 columns</p>\n",
       "</div>"
      ],
      "text/plain": [
       "   origin_dest_BARCELONA-MADRID  origin_dest_MADRID-BARCELONA  \\\n",
       "0                             0                             0   \n",
       "1                             0                             0   \n",
       "2                             0                             0   \n",
       "\n",
       "   origin_dest_MADRID-PONFERRADA  origin_dest_MADRID-SEVILLA  \\\n",
       "0                              0                           1   \n",
       "1                              0                           1   \n",
       "2                              0                           1   \n",
       "\n",
       "   origin_dest_MADRID-VALENCIA  origin_dest_PONFERRADA-MADRID  \\\n",
       "0                            0                              0   \n",
       "1                            0                              0   \n",
       "2                            0                              0   \n",
       "\n",
       "   origin_dest_SEVILLA-MADRID  origin_dest_VALENCIA-MADRID  train_type_ALVIA  \\\n",
       "0                           0                            0                 0   \n",
       "1                           0                            0                 0   \n",
       "2                           0                            0                 0   \n",
       "\n",
       "   train_type_AV City  ...  train_class_Turista con enlace  fare_Adulto ida  \\\n",
       "0                   1  ...                               0                0   \n",
       "1                   0  ...                               0                0   \n",
       "2                   0  ...                               0                0   \n",
       "\n",
       "   fare_Flexible  fare_Grupos Ida  fare_Individual-Flexible  fare_Mesa  \\\n",
       "0              0                0                         0          0   \n",
       "1              0                0                         0          0   \n",
       "2              0                0                         0          0   \n",
       "\n",
       "   fare_Promo  fare_Promo +  travel_time  price  \n",
       "0           1             0        10560  38.55  \n",
       "1           1             0         9120  53.40  \n",
       "2           1             0         8460  47.30  \n",
       "\n",
       "[3 rows x 39 columns]"
      ]
     },
     "execution_count": 21,
     "metadata": {},
     "output_type": "execute_result"
    }
   ],
   "source": [
    "# let's reorder the columns \n",
    "col_names = df.columns.to_list()\n",
    "col_names.append(col_names.pop(0))\n",
    "col_names.append(col_names.pop(0))\n",
    "df = df[col_names]\n",
    "df.head(3)"
   ]
  },
  {
   "cell_type": "markdown",
   "metadata": {},
   "source": [
    "### Storing the Clean data\n",
    "The data is now ohe'd and clean. Let's store it in a csv file.  "
   ]
  },
  {
   "cell_type": "code",
   "execution_count": 22,
   "metadata": {},
   "outputs": [],
   "source": [
    "df.to_csv('renfe-clean.csv')"
   ]
  },
  {
   "cell_type": "markdown",
   "metadata": {},
   "source": [
    "### Building a ML model "
   ]
  },
  {
   "cell_type": "code",
   "execution_count": 23,
   "metadata": {},
   "outputs": [],
   "source": [
    "import numpy as np\n",
    "df = pd.read_csv('renfe-clean.csv')\n",
    "del df['Unnamed: 0']\n",
    "df.fillna(value=np.mean(df.price), axis = 'rows', inplace = True)"
   ]
  },
  {
   "cell_type": "code",
   "execution_count": 24,
   "metadata": {},
   "outputs": [
    {
     "name": "stdout",
     "output_type": "stream",
     "text": [
      "(2570107, 38)\n",
      "(2570107, 1)\n"
     ]
    }
   ],
   "source": [
    "X, Y = df.values[:,:-1], df.values[:,-1]\n",
    "Y = Y.reshape((Y.shape[0],1))\n",
    "print(X.shape)\n",
    "print(Y.shape)"
   ]
  },
  {
   "cell_type": "code",
   "execution_count": 25,
   "metadata": {},
   "outputs": [],
   "source": [
    "from sklearn.model_selection import train_test_split\n",
    "# For reproducibility use random_state as the universal number\n",
    "X_train, X_test, y_train, y_test = train_test_split( \n",
    "          X, Y, test_size = 0.3, random_state = 42)"
   ]
  },
  {
   "cell_type": "code",
   "execution_count": 26,
   "metadata": {},
   "outputs": [],
   "source": [
    "# Function to perform training with MSE\n",
    "def train_using_mse(X_train, X_test, y_train): \n",
    "  \n",
    "    # Creating the classifier object \n",
    "    clf_mse = DecisionTreeRegressor(criterion = \"mse\", \n",
    "            random_state = 42,max_depth=20, min_samples_leaf=4) \n",
    "  \n",
    "    # Performing training \n",
    "    clf_mse.fit(X_train, y_train) \n",
    "    return clf_mse"
   ]
  },
  {
   "cell_type": "markdown",
   "metadata": {},
   "source": [
    "### Operational Phase\n",
    "This is the effect of applying the decision trees on the Data. Let's train using MSE and MAE criterion."
   ]
  },
  {
   "cell_type": "code",
   "execution_count": 27,
   "metadata": {},
   "outputs": [
    {
     "name": "stdout",
     "output_type": "stream",
     "text": [
      "Results Using MSE:\n",
      "DecisionTreeRegressor(criterion='mse', max_depth=20, max_features=None,\n",
      "           max_leaf_nodes=None, min_impurity_decrease=0.0,\n",
      "           min_impurity_split=None, min_samples_leaf=4,\n",
      "           min_samples_split=2, min_weight_fraction_leaf=0.0,\n",
      "           presort=False, random_state=42, splitter='best')\n"
     ]
    }
   ],
   "source": [
    "from sklearn.tree import DecisionTreeRegressor\n",
    "print(\"Results Using MSE:\")\n",
    "clf_mse = train_using_mse(X_train, X_test, y_train)\n",
    "print(clf_mse)"
   ]
  },
  {
   "cell_type": "markdown",
   "metadata": {},
   "source": [
    "Thus, the trained models are fit for the given data, the next step is to evaluate the model using some testing data. This can be done using the prediction on the validation test data. "
   ]
  },
  {
   "cell_type": "code",
   "execution_count": 28,
   "metadata": {},
   "outputs": [],
   "source": [
    "from sklearn.metrics import accuracy_score\n",
    "# Function to make predictions \n",
    "def prediction(X_test, clf_object): \n",
    "    # Predicton on test with MSE/ MAE\n",
    "    y_pred = clf_object.predict(X_test) \n",
    "    return y_pred\n",
    "\n",
    "# Function to calculate accuracy \n",
    "def cal_accuracy(X_test, y_test, clf_object):\n",
    "    print (f\"{clf_object.score(X_test,y_test)*100} %\")"
   ]
  },
  {
   "cell_type": "code",
   "execution_count": 29,
   "metadata": {},
   "outputs": [
    {
     "name": "stdout",
     "output_type": "stream",
     "text": [
      "Prediction using MSE Regressor\n",
      "[74.79453426 71.75426324 42.52464513 ... 28.35       63.38550342\n",
      " 73.07278811]\n",
      "R^2 coefficient Accuracy: 82.83892203587486 %\n"
     ]
    }
   ],
   "source": [
    "print('Prediction using MSE Regressor')\n",
    "y_pred_mse = prediction(X_test, clf_mse)\n",
    "print(y_pred_mse)\n",
    "print(\"R^2 coefficient Accuracy:\",end=\" \")\n",
    "cal_accuracy(X_test, y_test, clf_mse)"
   ]
  },
  {
   "cell_type": "markdown",
   "metadata": {},
   "source": [
    "This model on the training set gives an accuracy of $82\\%$ which is not pretty bad. So, the real deal in this dataset can be seen when the test data is present. Then the model can be evaluated in a better way. "
   ]
  }
 ],
 "metadata": {
  "kernelspec": {
   "display_name": "Python 3",
   "language": "python",
   "name": "python3"
  },
  "language_info": {
   "codemirror_mode": {
    "name": "ipython",
    "version": 3
   },
   "file_extension": ".py",
   "mimetype": "text/x-python",
   "name": "python",
   "nbconvert_exporter": "python",
   "pygments_lexer": "ipython3",
   "version": "3.7.3"
  }
 },
 "nbformat": 4,
 "nbformat_minor": 2
}
